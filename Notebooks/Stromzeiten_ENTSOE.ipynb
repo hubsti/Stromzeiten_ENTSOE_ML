{
 "cells": [
  {
   "cell_type": "markdown",
   "id": "e84fe719-01b2-4fd0-815d-e158089db690",
   "metadata": {
    "tags": []
   },
   "source": [
    "# Import packages"
   ]
  },
  {
   "cell_type": "code",
   "execution_count": 1,
   "id": "ed3160bf-019e-4fe8-800a-d233810047ff",
   "metadata": {
    "execution": {
     "iopub.execute_input": "2023-01-16T20:11:40.321835Z",
     "iopub.status.busy": "2023-01-16T20:11:40.321079Z",
     "iopub.status.idle": "2023-01-16T20:11:41.990955Z",
     "shell.execute_reply": "2023-01-16T20:11:41.990672Z",
     "shell.execute_reply.started": "2023-01-16T20:11:40.321773Z"
    },
    "tags": []
   },
   "outputs": [],
   "source": [
    "import warnings\n",
    "from dataclasses import InitVar, dataclass, field\n",
    "\n",
    "import matplotlib.pyplot as plt\n",
    "import numpy as np\n",
    "import pandas as pd\n",
    "from entsoe import EntsoePandasClient\n",
    "\n",
    "warnings.filterwarnings(\"ignore\")"
   ]
  },
  {
   "cell_type": "markdown",
   "id": "83677141-fb94-47b9-9a35-c7a9b3e3cf1d",
   "metadata": {},
   "source": [
    "# Pull data"
   ]
  },
  {
   "cell_type": "code",
   "execution_count": 2,
   "id": "4193dcc2-1ad3-41ae-8607-cfc1870cd69e",
   "metadata": {
    "execution": {
     "iopub.execute_input": "2023-01-16T20:11:43.234966Z",
     "iopub.status.busy": "2023-01-16T20:11:43.234393Z",
     "iopub.status.idle": "2023-01-16T20:11:43.239257Z",
     "shell.execute_reply": "2023-01-16T20:11:43.238699Z",
     "shell.execute_reply.started": "2023-01-16T20:11:43.234939Z"
    },
    "tags": []
   },
   "outputs": [],
   "source": [
    "def fetchdata(star_date, end_date, country):\n",
    "    client = EntsoePandasClient(api_key=\"444fc771-5d0f-499f-9328-90c05c459219\")\n",
    "    start = pd.Timestamp(star_date, tz=\"Europe/Brussels\")\n",
    "    end = pd.Timestamp(end_date, tz=\"Europe/Brussels\")\n",
    "    generation = client.query_generation(country, start=start, end=end)\n",
    "    generation = generation.iloc[\n",
    "        :, generation.columns.get_level_values(1) == \"Actual Aggregated\"\n",
    "    ]\n",
    "    generation.columns = generation.columns.droplevel(level=1)\n",
    "    return generation"
   ]
  },
  {
   "cell_type": "code",
   "execution_count": 3,
   "id": "33732649-93a9-4285-b824-6dd08b837b0e",
   "metadata": {
    "execution": {
     "iopub.execute_input": "2023-01-16T20:11:43.401556Z",
     "iopub.status.busy": "2023-01-16T20:11:43.401140Z",
     "iopub.status.idle": "2023-01-16T20:11:43.407898Z",
     "shell.execute_reply": "2023-01-16T20:11:43.407542Z",
     "shell.execute_reply.started": "2023-01-16T20:11:43.401527Z"
    },
    "tags": []
   },
   "outputs": [],
   "source": [
    "tag_dict_renew = {\n",
    "    \"Biomass\": \"Biomass\",\n",
    "    \"Geothermal\": \"Geothermal\",\n",
    "    \"Hydro_storage\": \"Hydro Pumped Storage\",\n",
    "    \"Hydro\": \"Hydro Run-of-river and poundage\",\n",
    "    \"Hydro_res\": \"Hydro Water Reservoir\",\n",
    "    \"Other_renew\": \"Other renewable\",\n",
    "    \"Solar\": \"Solar\",\n",
    "    \"Wind_off\": \"Wind Offshore\",\n",
    "    \"Wind_on\": \"Wind Onshore\",\n",
    "}\n",
    "\n",
    "tag_dict_NON_renew = {\n",
    "    \"Lignite\": \"Fossil Brown coal/Lignite\",\n",
    "    \"Gas\": \"Fossil Gas\",\n",
    "    \"Coal\": \"Fossil Hard coal\",\n",
    "    \"Oil\": \"Fossil Oil\",\n",
    "    \"Nuclear\": \"Nuclear\",\n",
    "    \"Other\": \"Other\",\n",
    "    \"Waste\": \"Waste\",\n",
    "}\n",
    "tag_dict = tag_dict_NON_renew | tag_dict_renew\n",
    "\n",
    "\n",
    "def formatdata(generation):\n",
    "    df = pd.DataFrame(\n",
    "        index=generation.index,\n",
    "        columns=tag_dict.keys(),\n",
    "    )\n",
    "    for k, v in tag_dict.items():\n",
    "        if v in generation.columns:\n",
    "            df[k] = generation[v]\n",
    "        else:\n",
    "            df[k] = 0.0\n",
    "    df = df.fillna(0.0)\n",
    "    df[\"Renewables\"] = df[tag_dict_renew].sum(axis=1)\n",
    "    df[\"NonRenewables\"] = df[tag_dict_NON_renew].sum(axis=1)\n",
    "\n",
    "    df[\"Total\"] = df[\"NonRenewables\"] + df[\"Renewables\"]\n",
    "\n",
    "    return df"
   ]
  },
  {
   "cell_type": "code",
   "execution_count": 4,
   "id": "4bb04771-2e73-4fc0-98ff-f663b1695537",
   "metadata": {
    "execution": {
     "iopub.execute_input": "2023-01-16T20:11:43.557543Z",
     "iopub.status.busy": "2023-01-16T20:11:43.557334Z",
     "iopub.status.idle": "2023-01-16T20:11:43.561555Z",
     "shell.execute_reply": "2023-01-16T20:11:43.560885Z",
     "shell.execute_reply.started": "2023-01-16T20:11:43.557525Z"
    },
    "tags": []
   },
   "outputs": [],
   "source": [
    "co2_dict = {\n",
    "    \"Biomass\": 230,\n",
    "    \"Lignite\": 1104,\n",
    "    \"Gas\": 602,\n",
    "    \"Coal\": 1104,\n",
    "    \"Oil\": 1125,\n",
    "    \"Geothermal\": 38,\n",
    "    \"Hydro_storage\": 859,\n",
    "    \"Hydro\": 11,\n",
    "    \"Hydro_res\": 11,\n",
    "    \"Nuclear\": 5,\n",
    "    \"Other\": 700,\n",
    "    \"Other_renew\": 300,\n",
    "    \"Solar\": 35,\n",
    "    \"Waste\": 700,\n",
    "    \"Wind_off\": 13,\n",
    "    \"Wind_on\": 13,\n",
    "}\n",
    "def calcuate_carbon_intensity(generation_STROMZEITEN):\n",
    "    df_c02 = pd.DataFrame()\n",
    "    for k, v in co2_dict.items():\n",
    "        df_c02[k] = (generation_STROMZEITEN[k] * 1e3 * v) / 1e6\n",
    "    df_c02[\"Total\"] = df_c02.sum(axis=\"columns\")\n",
    "    df_c02[\"Carbon Intensity\"] = (df_c02[\"Total\"] * 1e6 / (generation_STROMZEITEN[\"Total\"] * 1e3))\n",
    "    return df_c02\n",
    "    "
   ]
  },
  {
   "cell_type": "code",
   "execution_count": 5,
   "id": "3aa6180e-61ba-4aa1-84d9-dc04ddc9f81c",
   "metadata": {
    "execution": {
     "iopub.execute_input": "2023-01-16T20:11:43.693615Z",
     "iopub.status.busy": "2023-01-16T20:11:43.693362Z",
     "iopub.status.idle": "2023-01-16T20:11:46.615738Z",
     "shell.execute_reply": "2023-01-16T20:11:46.615041Z",
     "shell.execute_reply.started": "2023-01-16T20:11:43.693597Z"
    },
    "tags": []
   },
   "outputs": [
    {
     "ename": "IndexError",
     "evalue": "Too many levels: Index has only 1 level, not 2",
     "output_type": "error",
     "traceback": [
      "\u001b[0;31m---------------------------------------------------------------------------\u001b[0m",
      "\u001b[0;31mIndexError\u001b[0m                                Traceback (most recent call last)",
      "Input \u001b[0;32mIn [5]\u001b[0m, in \u001b[0;36m<cell line: 4>\u001b[0;34m()\u001b[0m\n\u001b[1;32m      2\u001b[0m end \u001b[38;5;241m=\u001b[39m \u001b[38;5;124m'\u001b[39m\u001b[38;5;124m20230116\u001b[39m\u001b[38;5;124m'\u001b[39m\n\u001b[1;32m      3\u001b[0m country \u001b[38;5;241m=\u001b[39m \u001b[38;5;124m'\u001b[39m\u001b[38;5;124mPL\u001b[39m\u001b[38;5;124m'\u001b[39m\n\u001b[0;32m----> 4\u001b[0m gen_ENTSO \u001b[38;5;241m=\u001b[39m \u001b[43mfetchdata\u001b[49m\u001b[43m(\u001b[49m\u001b[43mstart\u001b[49m\u001b[43m,\u001b[49m\u001b[43m \u001b[49m\u001b[43mend\u001b[49m\u001b[43m,\u001b[49m\u001b[43m \u001b[49m\u001b[43mcountry\u001b[49m\u001b[43m)\u001b[49m\n\u001b[1;32m      5\u001b[0m gen_STROMZEITEN \u001b[38;5;241m=\u001b[39m formatdata(gen_ENTSO)\n\u001b[1;32m      6\u001b[0m gen_CO2 \u001b[38;5;241m=\u001b[39m calcuate_carbon_intensity(gen_STROMZEITEN)\n",
      "Input \u001b[0;32mIn [2]\u001b[0m, in \u001b[0;36mfetchdata\u001b[0;34m(star_date, end_date, country)\u001b[0m\n\u001b[1;32m      4\u001b[0m end \u001b[38;5;241m=\u001b[39m pd\u001b[38;5;241m.\u001b[39mTimestamp(end_date, tz\u001b[38;5;241m=\u001b[39m\u001b[38;5;124m\"\u001b[39m\u001b[38;5;124mEurope/Brussels\u001b[39m\u001b[38;5;124m\"\u001b[39m)\n\u001b[1;32m      5\u001b[0m generation \u001b[38;5;241m=\u001b[39m client\u001b[38;5;241m.\u001b[39mquery_generation(country, start\u001b[38;5;241m=\u001b[39mstart, end\u001b[38;5;241m=\u001b[39mend)\n\u001b[1;32m      6\u001b[0m generation \u001b[38;5;241m=\u001b[39m generation\u001b[38;5;241m.\u001b[39miloc[\n\u001b[0;32m----> 7\u001b[0m     :, \u001b[43mgeneration\u001b[49m\u001b[38;5;241;43m.\u001b[39;49m\u001b[43mcolumns\u001b[49m\u001b[38;5;241;43m.\u001b[39;49m\u001b[43mget_level_values\u001b[49m\u001b[43m(\u001b[49m\u001b[38;5;241;43m1\u001b[39;49m\u001b[43m)\u001b[49m \u001b[38;5;241m==\u001b[39m \u001b[38;5;124m\"\u001b[39m\u001b[38;5;124mActual Aggregated\u001b[39m\u001b[38;5;124m\"\u001b[39m\n\u001b[1;32m      8\u001b[0m ]\n\u001b[1;32m      9\u001b[0m generation\u001b[38;5;241m.\u001b[39mcolumns \u001b[38;5;241m=\u001b[39m generation\u001b[38;5;241m.\u001b[39mcolumns\u001b[38;5;241m.\u001b[39mdroplevel(level\u001b[38;5;241m=\u001b[39m\u001b[38;5;241m1\u001b[39m)\n\u001b[1;32m     10\u001b[0m \u001b[38;5;28;01mreturn\u001b[39;00m generation\n",
      "File \u001b[0;32m~/miniforge3/envs/tensorflow/lib/python3.9/site-packages/pandas/core/indexes/base.py:2008\u001b[0m, in \u001b[0;36mIndex._get_level_values\u001b[0;34m(self, level)\u001b[0m\n\u001b[1;32m   1972\u001b[0m \u001b[38;5;28;01mdef\u001b[39;00m \u001b[38;5;21m_get_level_values\u001b[39m(\u001b[38;5;28mself\u001b[39m, level) \u001b[38;5;241m-\u001b[39m\u001b[38;5;241m>\u001b[39m Index:\n\u001b[1;32m   1973\u001b[0m     \u001b[38;5;124;03m\"\"\"\u001b[39;00m\n\u001b[1;32m   1974\u001b[0m \u001b[38;5;124;03m    Return an Index of values for requested level.\u001b[39;00m\n\u001b[1;32m   1975\u001b[0m \n\u001b[0;32m   (...)\u001b[0m\n\u001b[1;32m   2006\u001b[0m \u001b[38;5;124;03m    Index(['a', 'b', 'c'], dtype='object')\u001b[39;00m\n\u001b[1;32m   2007\u001b[0m \u001b[38;5;124;03m    \"\"\"\u001b[39;00m\n\u001b[0;32m-> 2008\u001b[0m     \u001b[38;5;28;43mself\u001b[39;49m\u001b[38;5;241;43m.\u001b[39;49m\u001b[43m_validate_index_level\u001b[49m\u001b[43m(\u001b[49m\u001b[43mlevel\u001b[49m\u001b[43m)\u001b[49m\n\u001b[1;32m   2009\u001b[0m     \u001b[38;5;28;01mreturn\u001b[39;00m \u001b[38;5;28mself\u001b[39m\n",
      "File \u001b[0;32m~/miniforge3/envs/tensorflow/lib/python3.9/site-packages/pandas/core/indexes/base.py:1927\u001b[0m, in \u001b[0;36mIndex._validate_index_level\u001b[0;34m(self, level)\u001b[0m\n\u001b[1;32m   1922\u001b[0m         \u001b[38;5;28;01mraise\u001b[39;00m \u001b[38;5;167;01mIndexError\u001b[39;00m(\n\u001b[1;32m   1923\u001b[0m             \u001b[38;5;124m\"\u001b[39m\u001b[38;5;124mToo many levels: Index has only 1 level, \u001b[39m\u001b[38;5;124m\"\u001b[39m\n\u001b[1;32m   1924\u001b[0m             \u001b[38;5;124mf\u001b[39m\u001b[38;5;124m\"\u001b[39m\u001b[38;5;132;01m{\u001b[39;00mlevel\u001b[38;5;132;01m}\u001b[39;00m\u001b[38;5;124m is not a valid level number\u001b[39m\u001b[38;5;124m\"\u001b[39m\n\u001b[1;32m   1925\u001b[0m         )\n\u001b[1;32m   1926\u001b[0m     \u001b[38;5;28;01melif\u001b[39;00m level \u001b[38;5;241m>\u001b[39m \u001b[38;5;241m0\u001b[39m:\n\u001b[0;32m-> 1927\u001b[0m         \u001b[38;5;28;01mraise\u001b[39;00m \u001b[38;5;167;01mIndexError\u001b[39;00m(\n\u001b[1;32m   1928\u001b[0m             \u001b[38;5;124mf\u001b[39m\u001b[38;5;124m\"\u001b[39m\u001b[38;5;124mToo many levels: Index has only 1 level, not \u001b[39m\u001b[38;5;132;01m{\u001b[39;00mlevel \u001b[38;5;241m+\u001b[39m \u001b[38;5;241m1\u001b[39m\u001b[38;5;132;01m}\u001b[39;00m\u001b[38;5;124m\"\u001b[39m\n\u001b[1;32m   1929\u001b[0m         )\n\u001b[1;32m   1930\u001b[0m \u001b[38;5;28;01melif\u001b[39;00m level \u001b[38;5;241m!=\u001b[39m \u001b[38;5;28mself\u001b[39m\u001b[38;5;241m.\u001b[39mname:\n\u001b[1;32m   1931\u001b[0m     \u001b[38;5;28;01mraise\u001b[39;00m \u001b[38;5;167;01mKeyError\u001b[39;00m(\n\u001b[1;32m   1932\u001b[0m         \u001b[38;5;124mf\u001b[39m\u001b[38;5;124m\"\u001b[39m\u001b[38;5;124mRequested level (\u001b[39m\u001b[38;5;132;01m{\u001b[39;00mlevel\u001b[38;5;132;01m}\u001b[39;00m\u001b[38;5;124m) does not match index name (\u001b[39m\u001b[38;5;132;01m{\u001b[39;00m\u001b[38;5;28mself\u001b[39m\u001b[38;5;241m.\u001b[39mname\u001b[38;5;132;01m}\u001b[39;00m\u001b[38;5;124m)\u001b[39m\u001b[38;5;124m\"\u001b[39m\n\u001b[1;32m   1933\u001b[0m     )\n",
      "\u001b[0;31mIndexError\u001b[0m: Too many levels: Index has only 1 level, not 2"
     ]
    }
   ],
   "source": [
    "start = '20230101'\n",
    "end = '20230116'\n",
    "country = 'PL'\n",
    "gen_ENTSO = fetchdata(start, end, country)\n",
    "gen_STROMZEITEN = formatdata(gen_ENTSO)\n",
    "gen_CO2 = calcuate_carbon_intensity(gen_STROMZEITEN)\n",
    "gen_ENTSO.to_csv(f'ENTSOE_DATA/{country}_gen_RAW{start}_{end}.csv')\n",
    "gen_STROMZEITEN.to_csv(f'ENTSOE_DATA/{country}_gen{start}_{end}.csv')\n",
    "gen_CO2.to_csv(f'ENTSOE_DATA/{country}_C02{start}_{end}.csv')  "
   ]
  },
  {
   "cell_type": "code",
   "execution_count": null,
   "id": "74abb5d1-8dcc-414f-b97b-a44161c5661c",
   "metadata": {
    "execution": {
     "iopub.status.busy": "2023-01-16T20:11:46.616076Z",
     "iopub.status.idle": "2023-01-16T20:11:46.616207Z",
     "shell.execute_reply": "2023-01-16T20:11:46.616142Z",
     "shell.execute_reply.started": "2023-01-16T20:11:46.616136Z"
    },
    "tags": []
   },
   "outputs": [],
   "source": [
    "gen_ENTSO"
   ]
  },
  {
   "cell_type": "code",
   "execution_count": null,
   "id": "97c75440-4f1a-4166-83af-930dff86ff9a",
   "metadata": {
    "execution": {
     "iopub.status.busy": "2023-01-16T20:11:46.616774Z",
     "iopub.status.idle": "2023-01-16T20:11:46.617073Z",
     "shell.execute_reply": "2023-01-16T20:11:46.617005Z",
     "shell.execute_reply.started": "2023-01-16T20:11:46.616997Z"
    },
    "tags": []
   },
   "outputs": [],
   "source": [
    "gen_STROMZEITEN"
   ]
  },
  {
   "cell_type": "code",
   "execution_count": null,
   "id": "be12a2ab-488b-4996-9978-ef321428504d",
   "metadata": {
    "execution": {
     "iopub.status.busy": "2023-01-16T20:11:46.617429Z",
     "iopub.status.idle": "2023-01-16T20:11:46.617544Z",
     "shell.execute_reply": "2023-01-16T20:11:46.617485Z",
     "shell.execute_reply.started": "2023-01-16T20:11:46.617479Z"
    },
    "tags": []
   },
   "outputs": [],
   "source": [
    "gen_CO2"
   ]
  },
  {
   "cell_type": "code",
   "execution_count": null,
   "id": "abf141b0-c197-437b-8c28-da79ad0f70bb",
   "metadata": {
    "execution": {
     "iopub.status.busy": "2023-01-16T20:11:46.617901Z",
     "iopub.status.idle": "2023-01-16T20:11:46.618019Z",
     "shell.execute_reply": "2023-01-16T20:11:46.617958Z",
     "shell.execute_reply.started": "2023-01-16T20:11:46.617952Z"
    },
    "tags": []
   },
   "outputs": [],
   "source": [
    "def fetchdata_load(star_date, end_date, country):\n",
    "    client = EntsoePandasClient(api_key=\"444fc771-5d0f-499f-9328-90c05c459219\")\n",
    "    start = pd.Timestamp(star_date, tz=\"Europe/Brussels\")\n",
    "    end = pd.Timestamp(end_date, tz=\"Europe/Brussels\")\n",
    "    load = client.query_load(country, start=start, end=end)\n",
    "    load.to_csv(f'ENTSOE_DATA/{country}_load_RAW{start}_{end}.csv')\n",
    "    return load\n",
    "\n",
    "def fetchdata_prices(star_date, end_date, country):\n",
    "    client = EntsoePandasClient(api_key=\"444fc771-5d0f-499f-9328-90c05c459219\")\n",
    "    start = pd.Timestamp(star_date, tz=\"Europe/Brussels\")\n",
    "    end = pd.Timestamp(end_date, tz=\"Europe/Brussels\")\n",
    "    prices = client.query_day_ahead_prices(country, start=start, end=end)\n",
    "    prices.to_csv(f'ENTSOE_DATA/{country}_prices_RAW{start}_{end}.csv')\n",
    "    return prices"
   ]
  },
  {
   "cell_type": "code",
   "execution_count": null,
   "id": "75b62e53-94be-4412-83d2-236752676483",
   "metadata": {
    "execution": {
     "iopub.status.busy": "2023-01-16T20:11:46.618291Z",
     "iopub.status.idle": "2023-01-16T20:11:46.618401Z",
     "shell.execute_reply": "2023-01-16T20:11:46.618342Z",
     "shell.execute_reply.started": "2023-01-16T20:11:46.618337Z"
    },
    "tags": []
   },
   "outputs": [],
   "source": [
    "start = '20230101'\n",
    "end = '20230116'\n",
    "countries = ['BE', 'FR', 'PL']\n",
    "\n",
    "for country in countries:\n",
    "    load = fetchdata_load(start, end, country)\n",
    "    print(\"load data fetched for: \", country)\n",
    "    load.to_csv(f'ENTSOE_DATA/{country}_load_RAW{start}_{end}.csv')\n",
    "    prices = fetchdata_prices(start, end, country)\n",
    "    prices.to_csv(f'ENTSOE_DATA/{country}_price_RAW{start}_{end}.csv')\n",
    "    print(\"prices data fetched for: \", country)"
   ]
  },
  {
   "cell_type": "code",
   "execution_count": null,
   "id": "46d49d24-045e-449a-bddc-c067b318558a",
   "metadata": {
    "tags": []
   },
   "outputs": [],
   "source": []
  },
  {
   "cell_type": "code",
   "execution_count": null,
   "id": "27075f1d-b9bc-450d-96c5-20b5440b0287",
   "metadata": {},
   "outputs": [],
   "source": []
  }
 ],
 "metadata": {
  "kernelspec": {
   "display_name": "Python 3.9 (tensorflow)",
   "language": "python",
   "name": "tensorflow"
  },
  "language_info": {
   "codemirror_mode": {
    "name": "ipython",
    "version": 3
   },
   "file_extension": ".py",
   "mimetype": "text/x-python",
   "name": "python",
   "nbconvert_exporter": "python",
   "pygments_lexer": "ipython3",
   "version": "3.9.12"
  },
  "toc-autonumbering": true,
  "toc-showcode": false,
  "toc-showmarkdowntxt": false
 },
 "nbformat": 4,
 "nbformat_minor": 5
}
